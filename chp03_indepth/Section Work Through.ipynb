{
 "metadata": {
  "name": "",
  "signature": "sha256:9d4b7684b412d62f768763711ecd8ec3c4c8c112ca67efe40bfd1d4760409292"
 },
 "nbformat": 3,
 "nbformat_minor": 0,
 "worksheets": [
  {
   "cells": [
    {
     "cell_type": "code",
     "collapsed": false,
     "input": [
      "%load_ext cythonmagic"
     ],
     "language": "python",
     "metadata": {},
     "outputs": [],
     "prompt_number": 1
    },
    {
     "cell_type": "code",
     "collapsed": false,
     "input": [
      "# import pyximport\n",
      "# pyximport.install()"
     ],
     "language": "python",
     "metadata": {},
     "outputs": [],
     "prompt_number": 2
    },
    {
     "cell_type": "markdown",
     "metadata": {},
     "source": [
      "## Declare Types"
     ]
    },
    {
     "cell_type": "code",
     "collapsed": false,
     "input": [
      "%%cython\n",
      "cimport cython\n",
      "\n",
      "def automatic_inference():\n",
      "    i = 1            # Py int\n",
      "    d = 2.0          # Py float (equiv. C double) \n",
      "    c = 3 + 4j       # Py complex\n",
      "    r = i * d + c    # Py complex\n",
      "    return r\n",
      "\n",
      "@cython.infer_types(True)\n",
      "def more_inference():\n",
      "    i = 1            # C long\n",
      "    d = 2.0          # C double \n",
      "    c = 3 + 4j       # C struct for complex\n",
      "    r = i * d + c    # C struct for complex\n",
      "    return r"
     ],
     "language": "python",
     "metadata": {},
     "outputs": [],
     "prompt_number": 3
    },
    {
     "cell_type": "code",
     "collapsed": false,
     "input": [
      "%%cython\n",
      "cdef int my_int = 10\n",
      "cdef int *p_int\n",
      "cdef float** pp_float = NULL\n",
      "\n",
      "p_int = &my_int\n",
      "p_int[0] = 42\n",
      "print(my_int)"
     ],
     "language": "python",
     "metadata": {},
     "outputs": [
      {
       "output_type": "stream",
       "stream": "stdout",
       "text": [
        "42\n"
       ]
      }
     ],
     "prompt_number": 4
    },
    {
     "cell_type": "markdown",
     "metadata": {},
     "source": [
      "### Declare static Python types"
     ]
    },
    {
     "cell_type": "code",
     "collapsed": false,
     "input": [
      "%%cython\n",
      "cdef list names\n",
      "cdef dict names_suffix_map\n",
      "cdef str pname\n",
      "cdef set unique_names\n",
      "\n",
      "names = ['A', 'B', 'C']\n",
      "names.append('D')\n",
      "print(names)"
     ],
     "language": "python",
     "metadata": {},
     "outputs": [
      {
       "output_type": "stream",
       "stream": "stdout",
       "text": [
        "['A', 'B', 'C', 'D']\n"
       ]
      }
     ],
     "prompt_number": 5
    },
    {
     "cell_type": "code",
     "collapsed": false,
     "input": [
      "%%cython\n",
      "b1, b2 = b\"Hello \", b\"World\"\n",
      "cdef bytes tmp = b1 + b2\n",
      "cdef char *buf = tmp\n",
      "print(buf)"
     ],
     "language": "python",
     "metadata": {},
     "outputs": [
      {
       "output_type": "stream",
       "stream": "stdout",
       "text": [
        "b'Hello World'\n"
       ]
      }
     ],
     "prompt_number": 6
    },
    {
     "cell_type": "markdown",
     "metadata": {},
     "source": [
      "## Functions"
     ]
    },
    {
     "cell_type": "code",
     "collapsed": false,
     "input": [
      "%%cython\n",
      "def py_fact(n):\n",
      "    \"\"\"Computes n!\"\"\"\n",
      "    if n <= 1:\n",
      "        return 1\n",
      "    return n * py_fact(n - 1)"
     ],
     "language": "python",
     "metadata": {},
     "outputs": [],
     "prompt_number": 7
    },
    {
     "cell_type": "code",
     "collapsed": false,
     "input": [
      "def interp_fact(n):\n",
      "    \"\"\"Computes n!\"\"\"\n",
      "    if n <= 1:\n",
      "        return 1\n",
      "    return n * interp_fact(n - 1)"
     ],
     "language": "python",
     "metadata": {},
     "outputs": [],
     "prompt_number": 8
    },
    {
     "cell_type": "code",
     "collapsed": false,
     "input": [
      "%%cython\n",
      "def typed_fact(long n):\n",
      "    \"\"\"Computes n!\"\"\"\n",
      "    if n <= 1:\n",
      "        return 1\n",
      "    # no performace improvement introduced\n",
      "    return n * typed_fact(n - 1)\n",
      "    #     long * (py int)"
     ],
     "language": "python",
     "metadata": {},
     "outputs": [],
     "prompt_number": 9
    },
    {
     "cell_type": "code",
     "collapsed": false,
     "input": [
      "%%cython\n",
      "cdef long c_fact(long n):\n",
      "    \"\"\"Computes n!\n",
      "    \n",
      "    Could easily overflow, only Cython code can use.\n",
      "    \"\"\"\n",
      "    if n <= 1:\n",
      "        return 1\n",
      "    return n * c_fact(n - 1)\n",
      "\n",
      "def wrap_c_fact(n):\n",
      "    \"\"\"Computes n!\"\"\"\n",
      "    return c_fact(n)"
     ],
     "language": "python",
     "metadata": {},
     "outputs": [],
     "prompt_number": 10
    },
    {
     "cell_type": "code",
     "collapsed": false,
     "input": [
      "wrap_c_fact(20) == py_fact(20)"
     ],
     "language": "python",
     "metadata": {},
     "outputs": [
      {
       "metadata": {},
       "output_type": "pyout",
       "prompt_number": 11,
       "text": [
        "True"
       ]
      }
     ],
     "prompt_number": 11
    },
    {
     "cell_type": "code",
     "collapsed": false,
     "input": [
      "wrap_c_fact(21) == py_fact(21)  # overflow"
     ],
     "language": "python",
     "metadata": {},
     "outputs": [
      {
       "metadata": {},
       "output_type": "pyout",
       "prompt_number": 12,
       "text": [
        "False"
       ]
      }
     ],
     "prompt_number": 12
    },
    {
     "cell_type": "code",
     "collapsed": false,
     "input": [
      "%%cython\n",
      "cpdef long cp_fact(long n):\n",
      "    \"\"\"Computes n!\n",
      "    \n",
      "    Could easily overflow, only Cython code can use.\n",
      "    \"\"\"\n",
      "    if n <= 1:\n",
      "        return 1\n",
      "    return n * cp_fact(n - 1)"
     ],
     "language": "python",
     "metadata": {},
     "outputs": [],
     "prompt_number": 13
    },
    {
     "cell_type": "code",
     "collapsed": false,
     "input": [
      "cp_fact(20) == py_fact(20)"
     ],
     "language": "python",
     "metadata": {},
     "outputs": [
      {
       "metadata": {},
       "output_type": "pyout",
       "prompt_number": 14,
       "text": [
        "True"
       ]
      }
     ],
     "prompt_number": 14
    },
    {
     "cell_type": "code",
     "collapsed": false,
     "input": [
      "%timeit interp_fact(20)"
     ],
     "language": "python",
     "metadata": {},
     "outputs": [
      {
       "output_type": "stream",
       "stream": "stdout",
       "text": [
        "100000 loops, best of 3: 3.66 \u00b5s per loop\n"
       ]
      }
     ],
     "prompt_number": 15
    },
    {
     "cell_type": "code",
     "collapsed": false,
     "input": [
      "%timeit py_fact(20)"
     ],
     "language": "python",
     "metadata": {},
     "outputs": [
      {
       "output_type": "stream",
       "stream": "stdout",
       "text": [
        "1000000 loops, best of 3: 1.62 \u00b5s per loop\n"
       ]
      }
     ],
     "prompt_number": 16
    },
    {
     "cell_type": "code",
     "collapsed": false,
     "input": [
      "%timeit cp_fact(20)"
     ],
     "language": "python",
     "metadata": {},
     "outputs": [
      {
       "output_type": "stream",
       "stream": "stdout",
       "text": [
        "10000000 loops, best of 3: 77 ns per loop\n"
       ]
      }
     ],
     "prompt_number": 17
    },
    {
     "cell_type": "code",
     "collapsed": false,
     "input": [
      "%timeit wrap_c_fact(20)"
     ],
     "language": "python",
     "metadata": {},
     "outputs": [
      {
       "output_type": "stream",
       "stream": "stdout",
       "text": [
        "10000000 loops, best of 3: 76.9 ns per loop\n"
       ]
      }
     ],
     "prompt_number": 18
    },
    {
     "cell_type": "markdown",
     "metadata": {},
     "source": [
      "## Function"
     ]
    },
    {
     "cell_type": "code",
     "collapsed": false,
     "input": [
      "%%cython\n",
      "cpdef int divide_ints(int i, int j):\n",
      "    return i / j"
     ],
     "language": "python",
     "metadata": {},
     "outputs": [],
     "prompt_number": 19
    },
    {
     "cell_type": "code",
     "collapsed": false,
     "input": [
      "# Exception raised but ignored; a falsy value return \n",
      "divide_ints(2, 0)"
     ],
     "language": "python",
     "metadata": {},
     "outputs": [
      {
       "output_type": "stream",
       "stream": "stderr",
       "text": [
        "Exception ignored in: '_cython_magic_56bf3b3ad976aca00192da255f2f3961.divide_ints'\n",
        "ZeroDivisionError: integer division or modulo by zero\n"
       ]
      },
      {
       "metadata": {},
       "output_type": "pyout",
       "prompt_number": 20,
       "text": [
        "0"
       ]
      }
     ],
     "prompt_number": 20
    },
    {
     "cell_type": "markdown",
     "metadata": {},
     "source": [
      "### Exception handling"
     ]
    },
    {
     "cell_type": "code",
     "collapsed": false,
     "input": [
      "%%cython\n",
      "cimport cython\n",
      "\n",
      "@cython.embedsignature(True)\n",
      "cpdef int divide_ints(int i, int j) except -1:\n",
      "    # using `except -1`\n",
      "    #   ret val never will be -1\n",
      "    # using `except? -1`\n",
      "    #   ret val can be -1 with exception check\n",
      "    # using `except *`\n",
      "    #   check on all ret val, add overhead\n",
      "    return i / j"
     ],
     "language": "python",
     "metadata": {},
     "outputs": [],
     "prompt_number": 21
    },
    {
     "cell_type": "code",
     "collapsed": false,
     "input": [
      "try:\n",
      "    divide_ints(2, 0)\n",
      "except ZeroDivisionError:\n",
      "    print('Divied by zero well caught!')"
     ],
     "language": "python",
     "metadata": {},
     "outputs": [
      {
       "output_type": "stream",
       "stream": "stdout",
       "text": [
        "Divied by zero well caught!\n"
       ]
      }
     ],
     "prompt_number": 22
    },
    {
     "cell_type": "markdown",
     "metadata": {},
     "source": [
      "### Function Signature"
     ]
    },
    {
     "cell_type": "code",
     "collapsed": false,
     "input": [
      "help(py_fact)"
     ],
     "language": "python",
     "metadata": {},
     "outputs": [
      {
       "output_type": "stream",
       "stream": "stdout",
       "text": [
        "Help on built-in function py_fact in module _cython_magic_d6ee49d078eab408496b39b0875d5734:\n",
        "\n",
        "py_fact(...)\n",
        "    Computes n!\n",
        "\n"
       ]
      }
     ],
     "prompt_number": 23
    },
    {
     "cell_type": "code",
     "collapsed": false,
     "input": [
      "# to have signature\n",
      "help(divide_ints)"
     ],
     "language": "python",
     "metadata": {},
     "outputs": [
      {
       "output_type": "stream",
       "stream": "stdout",
       "text": [
        "Help on built-in function divide_ints in module _cython_magic_41853806c9f3f42939b10667d295f10c:\n",
        "\n",
        "divide_ints(...)\n",
        "    divide_ints(int i, int j) -> int\n",
        "\n"
       ]
      }
     ],
     "prompt_number": 24
    },
    {
     "cell_type": "markdown",
     "metadata": {},
     "source": [
      "## Type coercion and casting"
     ]
    },
    {
     "cell_type": "code",
     "collapsed": false,
     "input": [
      "%%cython\n",
      "cdef void *v = NULL\n",
      "cdef int my_int = 42\n",
      "v = &my_int\n",
      "cdef int *ptr_i = <int*> v\n",
      "# print((<int *>v)[0])\n",
      "print(ptr_i[0])"
     ],
     "language": "python",
     "metadata": {},
     "outputs": [
      {
       "output_type": "stream",
       "stream": "stdout",
       "text": [
        "42\n"
       ]
      }
     ],
     "prompt_number": 25
    },
    {
     "cell_type": "code",
     "collapsed": false,
     "input": [
      "%%cython\n",
      "from __future__ import print_function  # enable Python3 print(...) function\n",
      "\n",
      "def print_address(a):\n",
      "    cdef void *v = <void *>a  # python obj is a ptr\n",
      "    cdef long addr = <long>v\n",
      "    print(\"Cython address:\", addr)\n",
      "    print(\"Python id     :\", id(a))"
     ],
     "language": "python",
     "metadata": {},
     "outputs": [],
     "prompt_number": 26
    },
    {
     "cell_type": "code",
     "collapsed": false,
     "input": [
      "print_address([1, 2])"
     ],
     "language": "python",
     "metadata": {},
     "outputs": [
      {
       "output_type": "stream",
       "stream": "stdout",
       "text": [
        "Cython address: 4348687752\n",
        "Python id     : 4348687752\n"
       ]
      }
     ],
     "prompt_number": 27
    },
    {
     "cell_type": "code",
     "collapsed": false,
     "input": [
      "%%cython\n",
      "def cast_to_list(a):\n",
      "    cdef list cast_list = <list>a\n",
      "    print(type(a))\n",
      "    print(type(cast_list))\n",
      "    cast_list.append(1)"
     ],
     "language": "python",
     "metadata": {},
     "outputs": [],
     "prompt_number": 28
    },
    {
     "cell_type": "code",
     "collapsed": false,
     "input": [
      "l = [1, 2]\n",
      "cast_to_list(l)\n",
      "l"
     ],
     "language": "python",
     "metadata": {},
     "outputs": [
      {
       "output_type": "stream",
       "stream": "stdout",
       "text": [
        "<class 'list'>\n",
        "<class 'list'>\n"
       ]
      },
      {
       "metadata": {},
       "output_type": "pyout",
       "prompt_number": 29,
       "text": [
        "[1, 2, 1]"
       ]
      }
     ],
     "prompt_number": 29
    },
    {
     "cell_type": "code",
     "collapsed": false,
     "input": [
      "s = {1, 2}\n",
      "try:\n",
      "    cast_to_list(s)\n",
      "except SystemError:\n",
      "    print(\"Cannot cast set to list\")"
     ],
     "language": "python",
     "metadata": {},
     "outputs": [
      {
       "output_type": "stream",
       "stream": "stdout",
       "text": [
        "<class 'set'>\n",
        "<class 'set'>\n",
        "Cannot cast set to list\n"
       ]
      }
     ],
     "prompt_number": 30
    },
    {
     "cell_type": "markdown",
     "metadata": {},
     "source": [
      "### structs, unions, and enums"
     ]
    },
    {
     "cell_type": "markdown",
     "metadata": {},
     "source": [
      "Ref: \n",
      "- [struct, union comparison](http://www.cmlab.csie.ntu.edu.tw/~perng/course/chap5/chap5.html)\n",
      "- [Cython struct/union def comparison](http://docs.cython.org/src/userguide/external_C_code.html#styles-of-struct-union-and-enum-declaration)"
     ]
    },
    {
     "cell_type": "code",
     "collapsed": false,
     "input": [
      "%%cython\n",
      "from __future__ import print_function\n",
      "ctypedef struct mycpx:\n",
      "    float real\n",
      "    float imag\n",
      "\n",
      "ctypedef union uu:\n",
      "    int a        # [ a  ]  share same memory address\n",
      "    short b, c   # [b][c]\n",
      "    \n",
      "cdef mycpx ray=mycpx(real=1, imag=1), neg_ray=mycpx(1, -1);\n",
      "neg_ray.real = -1\n",
      "print(type(ray), ray)\n",
      "print(type(neg_ray), neg_ray)"
     ],
     "language": "python",
     "metadata": {},
     "outputs": [
      {
       "output_type": "stream",
       "stream": "stdout",
       "text": [
        "<class 'dict'> {'real': 1.0, 'imag': 1.0}\n",
        "<class 'dict'> {'real': -1.0, 'imag': -1.0}\n"
       ]
      }
     ],
     "prompt_number": 31
    },
    {
     "cell_type": "code",
     "collapsed": false,
     "input": [
      "%%cython\n",
      "cdef struct _inner:\n",
      "    int inner_a\n",
      "\n",
      "cdef struct nested:\n",
      "    int outer_a\n",
      "    _inner inner\n",
      "    \n",
      "cdef nested n = {'outer_a': 1, 'inner': {'inner_a': 2}}"
     ],
     "language": "python",
     "metadata": {},
     "outputs": [],
     "prompt_number": 32
    },
    {
     "cell_type": "code",
     "collapsed": false,
     "input": [
      "%%cython\n",
      "cdef enum PRIMARIES:\n",
      "    RED = 1\n",
      "    YELLOW = 3\n",
      "    BLUE = 5\n",
      "    \n",
      "cdef enum SECONDARIES:\n",
      "    ORANGE, GREEN, PURPLE\n",
      "    \n",
      "# setup global variables\n",
      "cdef enum:\n",
      "    GLOBAL_SEED = 37"
     ],
     "language": "python",
     "metadata": {},
     "outputs": [],
     "prompt_number": 33
    },
    {
     "cell_type": "markdown",
     "metadata": {},
     "source": [
      "### Type aliasing with ctypedef"
     ]
    },
    {
     "cell_type": "code",
     "collapsed": false,
     "input": [
      "%%cython\n",
      "ctypedef double real\n",
      "ctypedef long integral\n",
      "\n",
      "def displacement(real d0, real v0, real a, real t):\n",
      "    cdef real d = d0 + (v0 * t) + (0.5 * a * t**2)\n",
      "    return d"
     ],
     "language": "python",
     "metadata": {},
     "outputs": [],
     "prompt_number": 34
    },
    {
     "cell_type": "markdown",
     "metadata": {},
     "source": [
      "## For and while loop"
     ]
    },
    {
     "cell_type": "code",
     "collapsed": false,
     "input": [
      "%%cython\n",
      "# fast c loop\n",
      "\n",
      "cdef unsigned int i, n = 100\n",
      "for i in range(n):\n",
      "    pass"
     ],
     "language": "python",
     "metadata": {},
     "outputs": [],
     "prompt_number": 35
    },
    {
     "cell_type": "markdown",
     "metadata": {},
     "source": [
      "## Preprocessor"
     ]
    },
    {
     "cell_type": "code",
     "collapsed": false,
     "input": [
      "%%cython\n",
      "\n",
      "DEF E = 2.718281828459045\n",
      "DEF PI = 3.141592653589793\n",
      "\n",
      "def feynmans_jewel():\n",
      "    \"\"\"Returns e**(i*pi) + 1. Should be ~0.0\"\"\"\n",
      "    return E ** (1j * PI) + 1.0"
     ],
     "language": "python",
     "metadata": {},
     "outputs": [],
     "prompt_number": 36
    }
   ],
   "metadata": {}
  }
 ]
}