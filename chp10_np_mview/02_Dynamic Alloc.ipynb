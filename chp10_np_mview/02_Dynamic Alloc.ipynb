{
 "metadata": {
  "name": "",
  "signature": "sha256:44d81643a9bb74fef639b23fc39e897523a624752a04366b77bb373b54627516"
 },
 "nbformat": 3,
 "nbformat_minor": 0,
 "worksheets": [
  {
   "cells": [
    {
     "cell_type": "code",
     "collapsed": false,
     "input": [
      "%load_ext cythonmagic"
     ],
     "language": "python",
     "metadata": {},
     "outputs": [],
     "prompt_number": 2
    },
    {
     "cell_type": "code",
     "collapsed": false,
     "input": [
      "import numpy as np"
     ],
     "language": "python",
     "metadata": {},
     "outputs": [],
     "prompt_number": 3
    },
    {
     "cell_type": "code",
     "collapsed": false,
     "input": [
      "%%cython\n",
      "\n",
      "from libc.stdlib cimport malloc\n",
      "\n",
      "def dynamic(size_t N, size_t M, long initval):\n",
      "    cdef long *arr = <long *>malloc(N * M * sizeof(long))\n",
      "    cdef long[:, ::1] mv = <long[:N, :M]>arr\n",
      "    mv[...] = initval\n",
      "    return mv"
     ],
     "language": "python",
     "metadata": {},
     "outputs": [],
     "prompt_number": 4
    },
    {
     "cell_type": "code",
     "collapsed": false,
     "input": [
      "arr_mv = dynamic(4, 5, initval=5)\n",
      "type(arr_mv)"
     ],
     "language": "python",
     "metadata": {},
     "outputs": [
      {
       "metadata": {},
       "output_type": "pyout",
       "prompt_number": 5,
       "text": [
        "_cython_magic_b4ac3aa77c84e8aec7117e05223cd401._memoryviewslice"
       ]
      }
     ],
     "prompt_number": 5
    },
    {
     "cell_type": "code",
     "collapsed": false,
     "input": [
      "arr = np.array(arr_mv, copy=False)"
     ],
     "language": "python",
     "metadata": {},
     "outputs": [],
     "prompt_number": 6
    },
    {
     "cell_type": "code",
     "collapsed": false,
     "input": [
      "arr_mv[0, 0] = -10"
     ],
     "language": "python",
     "metadata": {},
     "outputs": [],
     "prompt_number": 7
    },
    {
     "cell_type": "code",
     "collapsed": false,
     "input": [
      "print(arr)"
     ],
     "language": "python",
     "metadata": {},
     "outputs": [
      {
       "output_type": "stream",
       "stream": "stdout",
       "text": [
        "[[-10   5   5   5   5]\n",
        " [  5   5   5   5   5]\n",
        " [  5   5   5   5   5]\n",
        " [  5   5   5   5   5]]\n"
       ]
      }
     ],
     "prompt_number": 8
    },
    {
     "cell_type": "code",
     "collapsed": false,
     "input": [
      "arr.flags"
     ],
     "language": "python",
     "metadata": {},
     "outputs": [
      {
       "metadata": {},
       "output_type": "pyout",
       "prompt_number": 9,
       "text": [
        "  C_CONTIGUOUS : True\n",
        "  F_CONTIGUOUS : False\n",
        "  OWNDATA : False\n",
        "  WRITEABLE : True\n",
        "  ALIGNED : True\n",
        "  UPDATEIFCOPY : False"
       ]
      }
     ],
     "prompt_number": 9
    },
    {
     "cell_type": "code",
     "collapsed": false,
     "input": [
      "# arr.flags['OWNDATA'] = False, but True for natural array\n",
      "np.ones((4, 3)).flags"
     ],
     "language": "python",
     "metadata": {},
     "outputs": [
      {
       "metadata": {},
       "output_type": "pyout",
       "prompt_number": 10,
       "text": [
        "  C_CONTIGUOUS : True\n",
        "  F_CONTIGUOUS : False\n",
        "  OWNDATA : True\n",
        "  WRITEABLE : True\n",
        "  ALIGNED : True\n",
        "  UPDATEIFCOPY : False"
       ]
      }
     ],
     "prompt_number": 10
    },
    {
     "cell_type": "markdown",
     "metadata": {},
     "source": [
      "### Demo dynamic memory usage"
     ]
    },
    {
     "cell_type": "code",
     "collapsed": false,
     "input": [
      "%%cython\n",
      "import random\n",
      "from libc.stdlib cimport malloc, free\n",
      "\n",
      "def random_noise(int number=1):\n",
      "    cdef:\n",
      "        int i\n",
      "        # allocate number * sizeof(double) bytes of memory\n",
      "        double *my_array = <double *>malloc(number * sizeof(double))\n",
      "        double[:] mv\n",
      "    if not my_array:\n",
      "        raise MemoryError()\n",
      "\n",
      "    try:\n",
      "        ran = random.normalvariate\n",
      "        for i in range(number):\n",
      "            my_array[i] = ran(100, 5)\n",
      "\n",
      "        return [ my_array[i] for i in range(number) ]\n",
      "        # the following will cause memory leak!\n",
      "        # mv = <double[:number]>my_array\n",
      "        # return mv  # free'd and return\n",
      "    finally:\n",
      "        # return the previously allocated memory to the system\n",
      "        free(my_array)"
     ],
     "language": "python",
     "metadata": {},
     "outputs": [],
     "prompt_number": 11
    },
    {
     "cell_type": "code",
     "collapsed": false,
     "input": [
      "mv = random_noise(10)\n",
      "type(mv)"
     ],
     "language": "python",
     "metadata": {},
     "outputs": [
      {
       "metadata": {},
       "output_type": "pyout",
       "prompt_number": 12,
       "text": [
        "list"
       ]
      }
     ],
     "prompt_number": 12
    },
    {
     "cell_type": "code",
     "collapsed": false,
     "input": [
      "np.array(mv)"
     ],
     "language": "python",
     "metadata": {},
     "outputs": [
      {
       "metadata": {},
       "output_type": "pyout",
       "prompt_number": 13,
       "text": [
        "array([  93.57613648,   96.96281133,   95.51934431,  101.61236402,\n",
        "        104.06753752,   93.12795784,  100.90317279,   96.91111111,\n",
        "        103.86782558,  115.15811203])"
       ]
      }
     ],
     "prompt_number": 13
    },
    {
     "cell_type": "markdown",
     "metadata": {},
     "source": [
      "### Use Python for memory management"
     ]
    },
    {
     "cell_type": "code",
     "collapsed": false,
     "input": [
      "%%cython\n",
      "from cpython.mem cimport PyMem_Malloc, PyMem_Realloc, PyMem_Free\n",
      "cimport numpy as np\n",
      "\n",
      "cdef class SomeMemory:\n",
      "\n",
      "    cdef double* data\n",
      "    cdef size_t num\n",
      "\n",
      "    def __cinit__(self, size_t number):\n",
      "        # allocate some memory (uninitialised, may contain arbitrary data)\n",
      "        self.data = <double*> PyMem_Malloc(number * sizeof(double))\n",
      "        self.num = number\n",
      "        if not self.data:\n",
      "            raise MemoryError()\n",
      "        self.data[number-1] = -100\n",
      "            \n",
      "    def resize(self, size_t new_number):\n",
      "        # Allocates new_number * sizeof(double) bytes,\n",
      "        # preserving the current content and making a best-effort to\n",
      "        # re-use the original data location.\n",
      "        mem = <double*> PyMem_Realloc(self.data, new_number * sizeof(double))\n",
      "        if not mem:\n",
      "            raise MemoryError()\n",
      "        # Only overwrite the pointer if the memory was really reallocated.\n",
      "        # On error (mem is NULL), the originally memory has not been freed.\n",
      "        mem[self.num-1] = 100\n",
      "        mem[new_number-1] = -100\n",
      "        self.data = mem\n",
      "        self.num = new_number\n",
      "\n",
      "    def __dealloc__(self):\n",
      "        PyMem_Free(self.data)     # no-op if self.data is NULL\n",
      "\n",
      "        \n",
      "def demo_custom_mem(num, resized_num):\n",
      "    some_mem = SomeMemory(num)\n",
      "    print \"Current mem size %d\" % some_mem.num\n",
      "    print \"Last item: %.1f\" % some_mem.data[num-1]\n",
      "    print \"Resize from %d to %d\" % (num, resized_num)\n",
      "    some_mem.resize(resized_num)\n",
      "    print \"Previous last item: %.1f\" %  some_mem.data[num-1]\n",
      "    print \"Last item: %.1f\" %some_mem.data[resized_num-1]"
     ],
     "language": "python",
     "metadata": {},
     "outputs": [],
     "prompt_number": 32
    },
    {
     "cell_type": "code",
     "collapsed": false,
     "input": [
      "demo_custom_mem(100, 2000)"
     ],
     "language": "python",
     "metadata": {},
     "outputs": [
      {
       "output_type": "stream",
       "stream": "stdout",
       "text": [
        "Current mem size 100\n",
        "Last item: -100.0\n",
        "Resize from 100 to 2000\n",
        "Previous last item: 100.0\n",
        "Last item: -100.0\n"
       ]
      }
     ],
     "prompt_number": 33
    },
    {
     "cell_type": "code",
     "collapsed": false,
     "input": [],
     "language": "python",
     "metadata": {},
     "outputs": []
    }
   ],
   "metadata": {}
  }
 ]
}