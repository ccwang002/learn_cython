{
 "cells": [
  {
   "cell_type": "code",
   "execution_count": 1,
   "metadata": {
    "collapsed": false
   },
   "outputs": [],
   "source": [
    "%load_ext Cython"
   ]
  },
  {
   "cell_type": "code",
   "execution_count": 2,
   "metadata": {
    "collapsed": false
   },
   "outputs": [],
   "source": [
    "import numpy as np"
   ]
  },
  {
   "cell_type": "code",
   "execution_count": 3,
   "metadata": {
    "collapsed": false
   },
   "outputs": [],
   "source": [
    "%%cython\n",
    "\n",
    "from libc.stdlib cimport malloc\n",
    "\n",
    "def dynamic(size_t N, size_t M, long initval):\n",
    "    cdef long *arr = <long *>malloc(N * M * sizeof(long))\n",
    "    cdef long[:, ::1] mv = <long[:N, :M]>arr\n",
    "    mv[...] = initval\n",
    "    return mv"
   ]
  },
  {
   "cell_type": "code",
   "execution_count": 4,
   "metadata": {
    "collapsed": false
   },
   "outputs": [
    {
     "data": {
      "text/plain": [
       "_cython_magic_bbfd65ece577e6c162c4f44253f6c39d._memoryviewslice"
      ]
     },
     "execution_count": 4,
     "metadata": {},
     "output_type": "execute_result"
    }
   ],
   "source": [
    "arr_mv = dynamic(4, 5, initval=5)\n",
    "type(arr_mv)"
   ]
  },
  {
   "cell_type": "code",
   "execution_count": 5,
   "metadata": {
    "collapsed": false
   },
   "outputs": [],
   "source": [
    "arr = np.array(arr_mv, copy=False)"
   ]
  },
  {
   "cell_type": "code",
   "execution_count": 6,
   "metadata": {
    "collapsed": false
   },
   "outputs": [],
   "source": [
    "arr_mv[0, 0] = -10"
   ]
  },
  {
   "cell_type": "code",
   "execution_count": 7,
   "metadata": {
    "collapsed": false
   },
   "outputs": [
    {
     "name": "stdout",
     "output_type": "stream",
     "text": [
      "[[-10   5   5   5   5]\n",
      " [  5   5   5   5   5]\n",
      " [  5   5   5   5   5]\n",
      " [  5   5   5   5   5]]\n"
     ]
    }
   ],
   "source": [
    "print(arr)"
   ]
  },
  {
   "cell_type": "code",
   "execution_count": 8,
   "metadata": {
    "collapsed": false
   },
   "outputs": [
    {
     "data": {
      "text/plain": [
       "  C_CONTIGUOUS : True\n",
       "  F_CONTIGUOUS : False\n",
       "  OWNDATA : False\n",
       "  WRITEABLE : True\n",
       "  ALIGNED : True\n",
       "  UPDATEIFCOPY : False"
      ]
     },
     "execution_count": 8,
     "metadata": {},
     "output_type": "execute_result"
    }
   ],
   "source": [
    "arr.flags"
   ]
  },
  {
   "cell_type": "code",
   "execution_count": 9,
   "metadata": {
    "collapsed": false
   },
   "outputs": [
    {
     "data": {
      "text/plain": [
       "  C_CONTIGUOUS : True\n",
       "  F_CONTIGUOUS : False\n",
       "  OWNDATA : True\n",
       "  WRITEABLE : True\n",
       "  ALIGNED : True\n",
       "  UPDATEIFCOPY : False"
      ]
     },
     "execution_count": 9,
     "metadata": {},
     "output_type": "execute_result"
    }
   ],
   "source": [
    "# arr.flags['OWNDATA'] = False, but True for natural array\n",
    "np.ones((4, 3)).flags"
   ]
  },
  {
   "cell_type": "markdown",
   "metadata": {},
   "source": [
    "### Demo dynamic memory usage"
   ]
  },
  {
   "cell_type": "code",
   "execution_count": 10,
   "metadata": {
    "collapsed": false
   },
   "outputs": [],
   "source": [
    "%%cython\n",
    "import random\n",
    "from libc.stdlib cimport malloc, free\n",
    "\n",
    "def random_noise(int number=1):\n",
    "    cdef:\n",
    "        int i\n",
    "        # allocate number * sizeof(double) bytes of memory\n",
    "        double *my_array = <double *>malloc(number * sizeof(double))\n",
    "        double[:] mv\n",
    "    if not my_array:\n",
    "        raise MemoryError()\n",
    "\n",
    "    try:\n",
    "        ran = random.normalvariate\n",
    "        for i in range(number):\n",
    "            my_array[i] = ran(100, 5)\n",
    "\n",
    "        return [ my_array[i] for i in range(number) ]\n",
    "        # the following will cause memory leak!\n",
    "        # mv = <double[:number]>my_array\n",
    "        # return mv  # free'd and return\n",
    "    finally:\n",
    "        # return the previously allocated memory to the system\n",
    "        free(my_array)"
   ]
  },
  {
   "cell_type": "code",
   "execution_count": 11,
   "metadata": {
    "collapsed": false
   },
   "outputs": [
    {
     "data": {
      "text/plain": [
       "list"
      ]
     },
     "execution_count": 11,
     "metadata": {},
     "output_type": "execute_result"
    }
   ],
   "source": [
    "mv = random_noise(10)\n",
    "type(mv)"
   ]
  },
  {
   "cell_type": "code",
   "execution_count": 12,
   "metadata": {
    "collapsed": false
   },
   "outputs": [
    {
     "data": {
      "text/plain": [
       "array([  96.65496005,  101.7262847 ,   93.68225717,  101.42023058,\n",
       "         90.95982882,   98.08346635,   95.16157701,  105.4931657 ,\n",
       "         99.62089271,   97.38860611])"
      ]
     },
     "execution_count": 12,
     "metadata": {},
     "output_type": "execute_result"
    }
   ],
   "source": [
    "np.array(mv)"
   ]
  },
  {
   "cell_type": "markdown",
   "metadata": {},
   "source": [
    "### Use Python for memory management"
   ]
  },
  {
   "cell_type": "code",
   "execution_count": 13,
   "metadata": {
    "collapsed": false
   },
   "outputs": [],
   "source": [
    "%%cython\n",
    "from cpython.mem cimport PyMem_Malloc, PyMem_Realloc, PyMem_Free\n",
    "cimport numpy as np\n",
    "\n",
    "cdef class SomeMemory:\n",
    "\n",
    "    cdef double* data\n",
    "    cdef size_t num\n",
    "\n",
    "    def __cinit__(self, size_t number):\n",
    "        # allocate some memory (uninitialised, may contain arbitrary data)\n",
    "        self.data = <double*> PyMem_Malloc(number * sizeof(double))\n",
    "        self.num = number\n",
    "        if not self.data:\n",
    "            raise MemoryError()\n",
    "        self.data[number-1] = -100\n",
    "            \n",
    "    def resize(self, size_t new_number):\n",
    "        # Allocates new_number * sizeof(double) bytes,\n",
    "        # preserving the current content and making a best-effort to\n",
    "        # re-use the original data location.\n",
    "        mem = <double*> PyMem_Realloc(self.data, new_number * sizeof(double))\n",
    "        if not mem:\n",
    "            raise MemoryError()\n",
    "        # Only overwrite the pointer if the memory was really reallocated.\n",
    "        # On error (mem is NULL), the originally memory has not been freed.\n",
    "        mem[self.num-1] = 100\n",
    "        mem[new_number-1] = -100\n",
    "        self.data = mem\n",
    "        self.num = new_number\n",
    "\n",
    "    def __dealloc__(self):\n",
    "        PyMem_Free(self.data)     # no-op if self.data is NULL\n",
    "\n",
    "        \n",
    "def demo_custom_mem(num, resized_num):\n",
    "    some_mem = SomeMemory(num)\n",
    "    print \"Current mem size %d\" % some_mem.num\n",
    "    print \"Last item: %.1f\" % some_mem.data[num-1]\n",
    "    print \"Resize from %d to %d\" % (num, resized_num)\n",
    "    some_mem.resize(resized_num)\n",
    "    print \"Previous last item: %.1f\" %  some_mem.data[num-1]\n",
    "    print \"Last item: %.1f\" %some_mem.data[resized_num-1]"
   ]
  },
  {
   "cell_type": "code",
   "execution_count": 14,
   "metadata": {
    "collapsed": false
   },
   "outputs": [
    {
     "name": "stdout",
     "output_type": "stream",
     "text": [
      "Current mem size 100\n",
      "Last item: -100.0\n",
      "Resize from 100 to 2000\n",
      "Previous last item: 100.0\n",
      "Last item: -100.0\n"
     ]
    }
   ],
   "source": [
    "demo_custom_mem(100, 2000)"
   ]
  },
  {
   "cell_type": "code",
   "execution_count": null,
   "metadata": {
    "collapsed": false
   },
   "outputs": [],
   "source": []
  }
 ],
 "metadata": {
  "kernelspec": {
   "display_name": "Python 3",
   "language": "python",
   "name": "python3"
  },
  "language_info": {
   "codemirror_mode": {
    "name": "ipython",
    "version": 3
   },
   "file_extension": ".py",
   "mimetype": "text/x-python",
   "name": "python",
   "nbconvert_exporter": "python",
   "pygments_lexer": "ipython3",
   "version": "3.4.3"
  }
 },
 "nbformat": 4,
 "nbformat_minor": 0
}
