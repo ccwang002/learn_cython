{
 "metadata": {
  "name": "",
  "signature": "sha256:731159e592579088783a636687af91436ddd274dd5cfb91aa4893b59119ef64c"
 },
 "nbformat": 3,
 "nbformat_minor": 0,
 "worksheets": [
  {
   "cells": [
    {
     "cell_type": "code",
     "collapsed": false,
     "input": [
      "import numpy as np\n",
      "import numexpr"
     ],
     "language": "python",
     "metadata": {},
     "outputs": [],
     "prompt_number": 1
    },
    {
     "cell_type": "code",
     "collapsed": false,
     "input": [
      "%load_ext cythonmagic"
     ],
     "language": "python",
     "metadata": {},
     "outputs": [],
     "prompt_number": 2
    },
    {
     "cell_type": "code",
     "collapsed": false,
     "input": [
      "class Particle(object):\n",
      "    \"\"\"Simple Particle Type.\"\"\"\n",
      "    def __init__(self, m, p, v):\n",
      "        self.mass = m\n",
      "        self.position = p\n",
      "        self.velocity = v\n",
      "    \n",
      "    def get_momentum(self):\n",
      "        return self.mass * self.velocity"
     ],
     "language": "python",
     "metadata": {},
     "outputs": [],
     "prompt_number": 3
    },
    {
     "cell_type": "code",
     "collapsed": false,
     "input": [
      "%%cython\n",
      "cdef class cParticle:                       # ADDED cdef\n",
      "    \"\"\"Simple Particle extension type.\"\"\"\n",
      "    cdef double mass, position, velocity    # ADDED\n",
      "    def __init__(self, m, p, v):\n",
      "        self.mass = m\n",
      "        self.position = p\n",
      "        self.velocity = v\n",
      "    \n",
      "    def get_momentum(self):\n",
      "        return self.mass * self.velocity"
     ],
     "language": "python",
     "metadata": {},
     "outputs": [],
     "prompt_number": 4
    },
    {
     "cell_type": "code",
     "collapsed": false,
     "input": [
      "py_particle = Particle(1.0, 2.0, 3.0)"
     ],
     "language": "python",
     "metadata": {},
     "outputs": [],
     "prompt_number": 5
    },
    {
     "cell_type": "code",
     "collapsed": false,
     "input": [
      "cy_particle = cParticle(1.0, 2.0, 3.0)"
     ],
     "language": "python",
     "metadata": {},
     "outputs": [],
     "prompt_number": 6
    },
    {
     "cell_type": "code",
     "collapsed": false,
     "input": [
      "py_particle.get_momentum()"
     ],
     "language": "python",
     "metadata": {},
     "outputs": [
      {
       "metadata": {},
       "output_type": "pyout",
       "prompt_number": 7,
       "text": [
        "3.0"
       ]
      }
     ],
     "prompt_number": 7
    },
    {
     "cell_type": "code",
     "collapsed": false,
     "input": [
      "cy_particle.get_momentum()"
     ],
     "language": "python",
     "metadata": {},
     "outputs": [
      {
       "metadata": {},
       "output_type": "pyout",
       "prompt_number": 8,
       "text": [
        "3.0"
       ]
      }
     ],
     "prompt_number": 8
    },
    {
     "cell_type": "code",
     "collapsed": false,
     "input": [
      "# access to property\n",
      "py_particle.mass, py_particle.position, py_particle.velocity"
     ],
     "language": "python",
     "metadata": {},
     "outputs": [
      {
       "metadata": {},
       "output_type": "pyout",
       "prompt_number": 9,
       "text": [
        "(1.0, 2.0, 3.0)"
       ]
      }
     ],
     "prompt_number": 9
    },
    {
     "cell_type": "code",
     "collapsed": false,
     "input": [
      "try:\n",
      "    cy_particle.mass, cy_particle.position, cy_particle.velocity\n",
      "except AttributeError as e:\n",
      "    print(\"AttributeError:\", e)"
     ],
     "language": "python",
     "metadata": {},
     "outputs": [
      {
       "output_type": "stream",
       "stream": "stdout",
       "text": [
        "AttributeError: '_cython_magic_65b271ba220f3667e9962142d42ad242.cPa' object has no attribute 'mass'\n"
       ]
      }
     ],
     "prompt_number": 10
    },
    {
     "cell_type": "code",
     "collapsed": false,
     "input": [
      "# add attr on-the-fly\n",
      "py_particle.charge = 12.0\n",
      "try:\n",
      "    cy_particle.charge = 12.0\n",
      "except AttributeError as e:\n",
      "    print(\"AttributeError:\", e)"
     ],
     "language": "python",
     "metadata": {},
     "outputs": [
      {
       "output_type": "stream",
       "stream": "stdout",
       "text": [
        "AttributeError: '_cython_magic_65b271ba220f3667e9962142d42ad242.cParticle' object has no attribute 'charge'\n"
       ]
      }
     ],
     "prompt_number": 11
    },
    {
     "cell_type": "markdown",
     "metadata": {},
     "source": [
      "## Type Attributes and Access Control"
     ]
    },
    {
     "cell_type": "code",
     "collapsed": false,
     "input": [
      "%%cython\n",
      "cdef class cParticleAccCon:\n",
      "    \"\"\"Simple Particle extension type.\"\"\"  # Py behavior\n",
      "    cdef public double mass                # R/W\n",
      "    cdef readonly double posiiton          # R-only\n",
      "    cdef double velocity                   # disappear in Py"
     ],
     "language": "python",
     "metadata": {},
     "outputs": [],
     "prompt_number": 12
    },
    {
     "cell_type": "markdown",
     "metadata": {},
     "source": [
      "## C-level Initialization and Finalization"
     ]
    },
    {
     "cell_type": "code",
     "collapsed": false,
     "input": [
      "%%cython\n",
      "from libc.stdlib cimport malloc, free\n",
      "cdef class Matrix:\n",
      "    cdef:\n",
      "        unsigned int nrows, ncols\n",
      "        double *_matrix\n",
      "    def __cinit__(self, nr, nc):   # make sure called once\n",
      "        self.nrows = nr\n",
      "        self.ncols = nc\n",
      "        self._matrix = <double*>malloc(nr * nc * sizeof(double))\n",
      "        if self._matrix == NULL:\n",
      "            raise MemoryError()\n",
      "    def __dealloc__(self):         # make sure called when gc-ed\n",
      "        if self._matrix != NULL:\n",
      "            free(self._matrix)"
     ],
     "language": "python",
     "metadata": {},
     "outputs": [],
     "prompt_number": 13
    },
    {
     "cell_type": "markdown",
     "metadata": {},
     "source": [
      "## `cdef` and `cpdef` Methods"
     ]
    },
    {
     "cell_type": "code",
     "collapsed": false,
     "input": [
      "def generate_particles(n=0, particle_cls=None, seed=None):\n",
      "    rs = np.random.RandomState(seed)\n",
      "    rand_mass = np.abs(rs.normal(5e3, 3e3, size=n))\n",
      "    rand_pos = rs.random_sample(size=n)\n",
      "    rand_pos = numexpr.evaluate(\"rand_pos * 10 - 5\")\n",
      "    rand_velo = rs.normal(2, 10, size=n)\n",
      "    if particle_cls is None:\n",
      "        particle_cls = Particle  # fall back to Py Particle\n",
      "    PCls = particle_cls\n",
      "    # PCls(m, p, v)\n",
      "    return [\n",
      "        PCls(m, p, v)\n",
      "        for m, p, v in zip(rand_mass, rand_pos, rand_velo)\n",
      "    ]        "
     ],
     "language": "python",
     "metadata": {},
     "outputs": [],
     "prompt_number": 14
    },
    {
     "cell_type": "code",
     "collapsed": false,
     "input": [
      "%%cython\n",
      "cdef class cParticle:                       # ADDED cdef\n",
      "    \"\"\"Simple Particle extension type.\"\"\"\n",
      "    cdef double mass, position, velocity    # ADDED\n",
      "    def __init__(self, m, p, v):\n",
      "        self.mass = m\n",
      "        self.position = p\n",
      "        self.velocity = v\n",
      "    \n",
      "    def get_momentum(self):\n",
      "        return self.mass * self.velocity\n",
      "    \n",
      "def add_momentums_typed(list particles):\n",
      "    \"\"\"Returns the sum of the particle momentums.\"\"\"\n",
      "    cdef:\n",
      "        double total_mom = 0.0\n",
      "        cParticle particle\n",
      "    for particle in particles:\n",
      "        total_mom += particle.get_momentum()\n",
      "    return total_mom"
     ],
     "language": "python",
     "metadata": {},
     "outputs": [],
     "prompt_number": 15
    },
    {
     "cell_type": "code",
     "collapsed": false,
     "input": [
      "def add_momentums(particles):\n",
      "    \"\"\"Returns the sum of the particle momentums.\"\"\"\n",
      "    total_mom = 0.0\n",
      "    for particle in particles:\n",
      "        total_mom += particle.get_momentum()\n",
      "    return total_mom"
     ],
     "language": "python",
     "metadata": {},
     "outputs": [],
     "prompt_number": 16
    },
    {
     "cell_type": "code",
     "collapsed": false,
     "input": [
      "particles = generate_particles(1e3, particle_cls=Particle, seed=5566)"
     ],
     "language": "python",
     "metadata": {},
     "outputs": [],
     "prompt_number": 24
    },
    {
     "cell_type": "code",
     "collapsed": false,
     "input": [
      "%timeit add_momentums(particles)"
     ],
     "language": "python",
     "metadata": {},
     "outputs": [
      {
       "output_type": "stream",
       "stream": "stdout",
       "text": [
        "1000 loops, best of 3: 303 \u00b5s per loop\n"
       ]
      }
     ],
     "prompt_number": 25
    },
    {
     "cell_type": "code",
     "collapsed": false,
     "input": [
      "particles = generate_particles(1e3, particle_cls=cParticle, seed=5566)"
     ],
     "language": "python",
     "metadata": {},
     "outputs": [],
     "prompt_number": 17
    },
    {
     "cell_type": "code",
     "collapsed": false,
     "input": [
      "%timeit add_momentums(particles)"
     ],
     "language": "python",
     "metadata": {},
     "outputs": [
      {
       "output_type": "stream",
       "stream": "stdout",
       "text": [
        "10000 loops, best of 3: 95.9 \u00b5s per loop\n"
       ]
      }
     ],
     "prompt_number": 18
    },
    {
     "cell_type": "code",
     "collapsed": false,
     "input": [
      "%timeit add_momentums_typed(particles)"
     ],
     "language": "python",
     "metadata": {},
     "outputs": [
      {
       "output_type": "stream",
       "stream": "stdout",
       "text": [
        "10000 loops, best of 3: 58.1 \u00b5s per loop\n"
       ]
      }
     ],
     "prompt_number": 19
    },
    {
     "cell_type": "code",
     "collapsed": false,
     "input": [
      "%%cython\n",
      "cdef class cParticle:                       # ADDED cdef\n",
      "    \"\"\"Simple Particle extension type.\"\"\"\n",
      "    cdef double mass, position, velocity    # ADDED\n",
      "    def __init__(self, m, p, v):\n",
      "        self.mass = m\n",
      "        self.position = p\n",
      "        self.velocity = v\n",
      "    cpdef double get_momentum(self):\n",
      "        return self.mass * self.velocity\n",
      "    cdef double get_momentum_c(self):\n",
      "        return self.mass * self.velocity\n",
      "\n",
      "def add_momentums_typed(list particles):\n",
      "    \"\"\"Returns the sum of the particle momentums.\"\"\"\n",
      "    cdef:\n",
      "        double total_mom = 0.0\n",
      "        cParticle particle\n",
      "    for particle in particles:\n",
      "        total_mom += particle.get_momentum()\n",
      "    return total_mom\n",
      "\n",
      "def add_momentums_typed_c(list particles):\n",
      "    \"\"\"Returns the sum of the particle momentums.\"\"\"\n",
      "    cdef:\n",
      "        double total_mom = 0.0\n",
      "        cParticle particle\n",
      "    for particle in particles:\n",
      "        total_mom += particle.get_momentum_c()\n",
      "    return total_mom"
     ],
     "language": "python",
     "metadata": {},
     "outputs": [],
     "prompt_number": 26
    },
    {
     "cell_type": "code",
     "collapsed": false,
     "input": [
      "particles = generate_particles(1e3, particle_cls=cParticle, seed=5566)"
     ],
     "language": "python",
     "metadata": {},
     "outputs": [],
     "prompt_number": 27
    },
    {
     "cell_type": "code",
     "collapsed": false,
     "input": [
      "%timeit add_momentums_typed(particles)"
     ],
     "language": "python",
     "metadata": {},
     "outputs": [
      {
       "output_type": "stream",
       "stream": "stdout",
       "text": [
        "100000 loops, best of 3: 6.16 \u00b5s per loop\n"
       ]
      }
     ],
     "prompt_number": 28
    },
    {
     "cell_type": "code",
     "collapsed": false,
     "input": [
      "%timeit add_momentums_typed_c(particles)"
     ],
     "language": "python",
     "metadata": {},
     "outputs": [
      {
       "output_type": "stream",
       "stream": "stdout",
       "text": [
        "100000 loops, best of 3: 3.84 \u00b5s per loop\n"
       ]
      }
     ],
     "prompt_number": 29
    },
    {
     "cell_type": "code",
     "collapsed": false,
     "input": [],
     "language": "python",
     "metadata": {},
     "outputs": []
    }
   ],
   "metadata": {}
  }
 ]
}